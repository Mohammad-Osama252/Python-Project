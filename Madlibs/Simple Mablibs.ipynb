{
 "cells": [
  {
   "cell_type": "code",
   "execution_count": 11,
   "id": "73878749",
   "metadata": {},
   "outputs": [],
   "source": [
    "def mablib():\n",
    "    adj = input('Adjective: ')\n",
    "    verb1 = input('Verb: ')\n",
    "    verb2 = input('Verb: ')\n",
    "    famous_person = input('Famous_Person')\n",
    "     \n",
    "    madlib = f'Computer Programming is so {adj}! It makes me so excited all the time because', 'I love to {verb1}. Stay hydrated and {verb2} like you are {famous_person}.'\n",
    "        \n",
    "    \n",
    "    return madlib"
   ]
  },
  {
   "cell_type": "code",
   "execution_count": null,
   "id": "6ee92311",
   "metadata": {},
   "outputs": [],
   "source": [
    "mablib()"
   ]
  },
  {
   "cell_type": "code",
   "execution_count": null,
   "id": "311332d7",
   "metadata": {},
   "outputs": [],
   "source": []
  }
 ],
 "metadata": {
  "kernelspec": {
   "display_name": "Python 3",
   "language": "python",
   "name": "python3"
  },
  "language_info": {
   "codemirror_mode": {
    "name": "ipython",
    "version": 3
   },
   "file_extension": ".py",
   "mimetype": "text/x-python",
   "name": "python",
   "nbconvert_exporter": "python",
   "pygments_lexer": "ipython3",
   "version": "3.7.10"
  }
 },
 "nbformat": 4,
 "nbformat_minor": 5
}
