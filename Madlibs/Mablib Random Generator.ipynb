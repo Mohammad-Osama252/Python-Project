{
 "cells": [
  {
   "cell_type": "code",
   "execution_count": 4,
   "id": "78c0103a",
   "metadata": {},
   "outputs": [],
   "source": [
    "from random import randint\n",
    "import copy"
   ]
  },
  {
   "cell_type": "code",
   "execution_count": 5,
   "id": "ce534322",
   "metadata": {},
   "outputs": [],
   "source": [
    "word_dict = {\n",
    "    'adjective'  : ['greedy','abrasive','grubby','groovy','rich','harsh','tasty','slow'],\n",
    "    'city name'  : ['Chicago','New York','Charlotte','Indianapolis','Louisville','Denver'],\n",
    "    'noun'       : ['people','map','music','dog','hamster','ball','hotdog','salad'], \n",
    "    'action verb': ['run','fall','crawl','scurry','cry','watch','swim','jump','bounce'], \n",
    "    'sports noun': ['ball','mit','puck','uniform','helmet','scoreboard','player']\n",
    "     }"
   ]
  },
  {
   "cell_type": "code",
   "execution_count": 6,
   "id": "7ac362d2",
   "metadata": {},
   "outputs": [],
   "source": [
    "story = (\n",
    "        \"One day my {} friend and I decided to go to the {} game in {}. \"+\n",
    "    \"We really wanted to see the {} play the {}. So, we {} our {} \"+ \n",
    "    \"down to the {} and bought some {}s. We got into the game and \"+\n",
    "    \"it was a lot of fun. We ate some {} {} and drank some {} {}. \"+\n",
    "    \"We had a great time! We plan to go again next year!\"\n",
    "    )"
   ]
  },
  {
   "cell_type": "code",
   "execution_count": 7,
   "id": "4f7a1bba",
   "metadata": {},
   "outputs": [],
   "source": [
    "def get_word(type, local_dict):\n",
    "    ''' get randon words from local_dict based on word type'''\n",
    "    words = local_dict[type]\n",
    "    cnt = len(words)-1\n",
    "    index = randint(0, cnt)\n",
    "    return local_dict[type].pop(index)"
   ]
  },
  {
   "cell_type": "code",
   "execution_count": 8,
   "id": "db899aba",
   "metadata": {},
   "outputs": [],
   "source": [
    "def create_story():\n",
    "    local_dict = copy.deepcopy(word_dict)\n",
    "    return story.format(\n",
    "    get_word('adjective', local_dict),\n",
    "    get_word('sports noun', local_dict),\n",
    "    get_word('city name', local_dict),\n",
    "    get_word('noun', local_dict),\n",
    "    get_word('noun', local_dict),\n",
    "    get_word('action verb', local_dict),\n",
    "    get_word('noun', local_dict),\n",
    "    get_word('noun', local_dict),\n",
    "    get_word('noun', local_dict),\n",
    "    get_word('adjective', local_dict),\n",
    "    get_word('noun', local_dict),\n",
    "    get_word('adjective', local_dict),\n",
    "    get_word('noun', local_dict)\n",
    "    \n",
    "    )\n",
    "    "
   ]
  },
  {
   "cell_type": "code",
   "execution_count": 9,
   "id": "594426d1",
   "metadata": {},
   "outputs": [],
   "source": [
    "story1 = create_story()\n",
    "story2 = create_story()"
   ]
  },
  {
   "cell_type": "code",
   "execution_count": 10,
   "id": "f1af4795",
   "metadata": {},
   "outputs": [
    {
     "name": "stdout",
     "output_type": "stream",
     "text": [
      "One day my rich friend and I decided to go to the mit game in Indianapolis. We really wanted to see the salad play the people. So, we bounce our dog down to the hotdog and bought some balls. We got into the game and it was a lot of fun. We ate some grubby hamster and drank some groovy music. We had a great time! We plan to go again next year!\n",
      "\n",
      " One day my slow friend and I decided to go to the mit game in Charlotte. We really wanted to see the dog play the people. So, we watch our ball down to the hamster and bought some hotdogs. We got into the game and it was a lot of fun. We ate some harsh music and drank some rich map. We had a great time! We plan to go again next year!\n"
     ]
    }
   ],
   "source": [
    "print(story1)\n",
    "print('\\n', story2)"
   ]
  },
  {
   "cell_type": "code",
   "execution_count": null,
   "id": "a6b9c8b9",
   "metadata": {},
   "outputs": [],
   "source": []
  }
 ],
 "metadata": {
  "kernelspec": {
   "display_name": "Python 3",
   "language": "python",
   "name": "python3"
  },
  "language_info": {
   "codemirror_mode": {
    "name": "ipython",
    "version": 3
   },
   "file_extension": ".py",
   "mimetype": "text/x-python",
   "name": "python",
   "nbconvert_exporter": "python",
   "pygments_lexer": "ipython3",
   "version": "3.7.10"
  }
 },
 "nbformat": 4,
 "nbformat_minor": 5
}
